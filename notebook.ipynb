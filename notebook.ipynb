{
 "cells": [
  {
   "cell_type": "code",
   "execution_count": 2,
   "metadata": {},
   "outputs": [
    {
     "name": "stderr",
     "output_type": "stream",
     "text": [
      "huggingface/tokenizers: The current process just got forked, after parallelism has already been used. Disabling parallelism to avoid deadlocks...\n",
      "To disable this warning, you can either:\n",
      "\t- Avoid using `tokenizers` before the fork if possible\n",
      "\t- Explicitly set the environment variable TOKENIZERS_PARALLELISM=(true | false)\n"
     ]
    },
    {
     "name": "stdout",
     "output_type": "stream",
     "text": [
      "Requirement already satisfied: torch in /opt/homebrew/anaconda3/lib/python3.11/site-packages (2.5.1)\n",
      "Requirement already satisfied: torchvision in /opt/homebrew/anaconda3/lib/python3.11/site-packages (0.20.1)\n",
      "Requirement already satisfied: filelock in /opt/homebrew/anaconda3/lib/python3.11/site-packages (from torch) (3.13.1)\n",
      "Requirement already satisfied: typing-extensions>=4.8.0 in /opt/homebrew/anaconda3/lib/python3.11/site-packages (from torch) (4.9.0)\n",
      "Requirement already satisfied: networkx in /opt/homebrew/anaconda3/lib/python3.11/site-packages (from torch) (3.1)\n",
      "Requirement already satisfied: jinja2 in /opt/homebrew/anaconda3/lib/python3.11/site-packages (from torch) (3.1.3)\n",
      "Requirement already satisfied: fsspec in /opt/homebrew/anaconda3/lib/python3.11/site-packages (from torch) (2023.10.0)\n",
      "Requirement already satisfied: sympy==1.13.1 in /opt/homebrew/anaconda3/lib/python3.11/site-packages (from torch) (1.13.1)\n",
      "Requirement already satisfied: mpmath<1.4,>=1.1.0 in /opt/homebrew/anaconda3/lib/python3.11/site-packages (from sympy==1.13.1->torch) (1.3.0)\n",
      "Requirement already satisfied: numpy in /opt/homebrew/anaconda3/lib/python3.11/site-packages (from torchvision) (1.26.4)\n",
      "Requirement already satisfied: pillow!=8.3.*,>=5.3.0 in /opt/homebrew/anaconda3/lib/python3.11/site-packages (from torchvision) (10.2.0)\n",
      "Requirement already satisfied: MarkupSafe>=2.0 in /opt/homebrew/anaconda3/lib/python3.11/site-packages (from jinja2->torch) (2.1.3)\n"
     ]
    }
   ],
   "source": [
    "!pip install torch torchvision"
   ]
  },
  {
   "cell_type": "code",
   "execution_count": 34,
   "metadata": {},
   "outputs": [],
   "source": [
    "from PIL import Image\n",
    "import numpy as np\n",
    "\n",
    "filename = \"Test_Sample/pass.png\"\n",
    "image = Image.open(filename).convert('L')\n",
    "\n",
    "from transformers import CLIPSegProcessor, CLIPSegForImageSegmentation\n",
    "\n",
    "processor = CLIPSegProcessor.from_pretrained(\"CIDAS/clipseg-rd64-refined\")\n",
    "model = CLIPSegForImageSegmentation.from_pretrained(\"CIDAS/clipseg-rd64-refined\")\n",
    "\n",
    "image_3ch = Image.merge('RGB', (image, image, image))\n",
    "\n",
    "prompts = [\"bigger centric circle\", \"black color\", \"squares\", \"mid pixel of centric square, 1px wide\"]\n",
    "\n",
    "inputs = processor(text=prompts, images=[image_3ch] * len(prompts), padding=\"max_length\", return_tensors=\"pt\")\n",
    "\n",
    "import torch\n",
    "\n",
    "# predict\n",
    "with torch.no_grad():\n",
    "    outputs = model(**inputs)\n",
    "\n",
    "preds = outputs.logits\n",
    "\n",
    "# Convert predictions to PIL images\n",
    "segmentation_masks = []\n",
    "for i in range(len(prompts)):\n",
    "    # Convert tensor to numpy array and scale to 0-255\n",
    "    mask = torch.sigmoid(preds[i]).numpy()\n",
    "    mask = (mask * 255).astype(np.uint8)\n",
    "    # Convert to PIL Image\n",
    "    mask_image = Image.fromarray(mask)\n",
    "    segmentation_masks.append(mask_image)"
   ]
  },
  {
   "cell_type": "code",
   "execution_count": 49,
   "metadata": {},
   "outputs": [
    {
     "data": {
      "image/jpeg": "[encoded data removed]",
      "image/png": "[encoded data removed]",
      "text/plain": [
       "<PIL.Image.Image image mode=L size=352x352>"
      ]
     },
     "execution_count": 49,
     "metadata": {},
     "output_type": "execute_result"
    }
   ],
   "source": [
    "\n",
    "im = segmentation_masks[2]\n",
    "bw_img = im.convert('L')\n",
    "\n",
    "THRESHOLD = 70\n",
    "for x in range(bw_img.width):\n",
    "    for y in range(bw_img.height):\n",
    "        if bw_img.getpixel((x, y)) < THRESHOLD:\n",
    "            bw_img.putpixel((x, y), 0)\n",
    "        else:\n",
    "            bw_img.putpixel((x, y), 255)\n",
    "            \n",
    "bw_img"
   ]
  },
  {
   "cell_type": "code",
   "execution_count": 48,
   "metadata": {},
   "outputs": [
    {
     "name": "stdout",
     "output_type": "stream",
     "text": [
      "Left most white pixel: x = 151\n",
      "Right most white pixel: x = 201\n",
      "Top most white pixel: y = 148\n",
      "Bottom most white pixel: y = 204\n",
      "Center point: x = 176, y = 176\n"
     ]
    }
   ],
   "source": [
    "\n",
    "im = segmentation_masks[1]\n",
    "bw_img = im.convert('L')\n",
    "\n",
    "THRESHOLD = 70\n",
    "for x in range(bw_img.width):\n",
    "    for y in range(bw_img.height):\n",
    "        if bw_img.getpixel((x, y)) < THRESHOLD:\n",
    "            bw_img.putpixel((x, y), 0)\n",
    "        else:\n",
    "            bw_img.putpixel((x, y), 255)\n",
    "            \n",
    "bw_img\n",
    "\n",
    "# Initialize the boundary values\n",
    "left_most = bw_img.width  # Start with maximum possible value\n",
    "right_most = 0           # Start with minimum possible value\n",
    "top_most = bw_img.height # Start with maximum possible value\n",
    "bottom_most = 0         # Start with minimum possible value\n",
    "\n",
    "# Scan through all pixels\n",
    "for x in range(bw_img.width):\n",
    "    for y in range(bw_img.height):\n",
    "        if bw_img.getpixel((x, y)) == 255:  # If we find a white pixel\n",
    "            # Update boundaries\n",
    "            left_most = min(left_most, x)\n",
    "            right_most = max(right_most, x)\n",
    "            top_most = min(top_most, y)\n",
    "            bottom_most = max(bottom_most, y)\n",
    "\n",
    "print(f\"Left most white pixel: x = {left_most}\")\n",
    "print(f\"Right most white pixel: x = {right_most}\")\n",
    "print(f\"Top most white pixel: y = {top_most}\")\n",
    "print(f\"Bottom most white pixel: y = {bottom_most}\")\n",
    "\n",
    "# Calculate center coordinates\n",
    "center_x = (left_most + right_most) // 2\n",
    "center_y = (top_most + bottom_most) // 2\n",
    "\n",
    "print(f\"Center point: x = {center_x}, y = {center_y}\")"
   ]
  },
  {
   "cell_type": "code",
   "execution_count": 47,
   "metadata": {},
   "outputs": [
    {
     "data": {
      "image/jpeg": "[encoded data removed]",
      "image/png": "[encoded data removed]",
      "text/plain": [
       "<PIL.Image.Image image mode=L size=368x341>"
      ]
     },
     "execution_count": 47,
     "metadata": {},
     "output_type": "execute_result"
    }
   ],
   "source": [
    "image"
   ]
  },
  {
   "cell_type": "code",
   "execution_count": null,
   "metadata": {},
   "outputs": [],
   "source": []
  }
 ],
 "metadata": {
  "kernelspec": {
   "display_name": "base",
   "language": "python",
   "name": "python3"
  },
  "language_info": {
   "codemirror_mode": {
    "name": "ipython",
    "version": 3
   },
   "file_extension": ".py",
   "mimetype": "text/x-python",
   "name": "python",
   "nbconvert_exporter": "python",
   "pygments_lexer": "ipython3",
   "version": "3.11.8"
  }
 },
 "nbformat": 4,
 "nbformat_minor": 2
}
